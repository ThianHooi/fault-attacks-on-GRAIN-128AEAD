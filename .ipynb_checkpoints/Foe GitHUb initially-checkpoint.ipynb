{
 "cells": [
  {
   "cell_type": "code",
   "execution_count": 37,
   "metadata": {},
   "outputs": [
    {
     "name": "stdout",
     "output_type": "stream",
     "text": [
      "[[34, 66, 70, 82, 88], [34, 66, 70, 82, 88], [34, 66, 70, 82, 88], [34, 66, 70, 82, 88], [34, 66, 70, 82, 88], [34, 66, 70, 82, 88], [34, 66, 70, 82, 88], [34, 66, 70, 82, 88]]\n"
     ]
    },
    {
     "ename": "ValueError",
     "evalue": "34 is not in list",
     "output_type": "error",
     "traceback": [
      "\u001b[0;31m---------------------------------------------------------------------------\u001b[0m",
      "\u001b[0;31mValueError\u001b[0m                                Traceback (most recent call last)",
      "\u001b[0;32m<ipython-input-37-c6cc452035cd>\u001b[0m in \u001b[0;36m<module>\u001b[0;34m()\u001b[0m\n\u001b[1;32m     76\u001b[0m \u001b[0;34m\u001b[0m\u001b[0m\n\u001b[1;32m     77\u001b[0m     \u001b[0mprint\u001b[0m\u001b[0;34m(\u001b[0m\u001b[0mval_list\u001b[0m\u001b[0;34m)\u001b[0m\u001b[0;34m\u001b[0m\u001b[0;34m\u001b[0m\u001b[0m\n\u001b[0;32m---> 78\u001b[0;31m     \u001b[0mresults\u001b[0m \u001b[0;34m=\u001b[0m \u001b[0mgetOutputDifferentialForPairs\u001b[0m\u001b[0;34m(\u001b[0m\u001b[0mval_list\u001b[0m\u001b[0;34m,\u001b[0m \u001b[0mpair_list\u001b[0m\u001b[0;34m,\u001b[0m \u001b[0mout_diff_times\u001b[0m\u001b[0;34m)\u001b[0m\u001b[0;34m\u001b[0m\u001b[0;34m\u001b[0m\u001b[0m\n\u001b[0m\u001b[1;32m     79\u001b[0m \u001b[0;34m\u001b[0m\u001b[0m\n\u001b[1;32m     80\u001b[0m     \u001b[0;32mfor\u001b[0m \u001b[0mi\u001b[0m \u001b[0;32min\u001b[0m \u001b[0mrange\u001b[0m\u001b[0;34m(\u001b[0m\u001b[0mresults\u001b[0m\u001b[0;34m)\u001b[0m\u001b[0;34m:\u001b[0m\u001b[0;34m\u001b[0m\u001b[0;34m\u001b[0m\u001b[0m\n",
      "\u001b[0;32m<ipython-input-37-c6cc452035cd>\u001b[0m in \u001b[0;36mgetOutputDifferentialForPairs\u001b[0;34m(val_list, pair_list, array_2d)\u001b[0m\n\u001b[1;32m     20\u001b[0m \u001b[0;34m\u001b[0m\u001b[0m\n\u001b[1;32m     21\u001b[0m                 \u001b[0;32mfor\u001b[0m \u001b[0mkeystream\u001b[0m \u001b[0;32min\u001b[0m \u001b[0mrange\u001b[0m\u001b[0;34m(\u001b[0m\u001b[0mlen\u001b[0m\u001b[0;34m(\u001b[0m\u001b[0mpair_list\u001b[0m\u001b[0;34m[\u001b[0m\u001b[0mgroup\u001b[0m\u001b[0;34m]\u001b[0m\u001b[0;34m[\u001b[0m\u001b[0mpair\u001b[0m\u001b[0;34m]\u001b[0m\u001b[0;34m)\u001b[0m\u001b[0;34m)\u001b[0m\u001b[0;34m:\u001b[0m\u001b[0;34m\u001b[0m\u001b[0;34m\u001b[0m\u001b[0m\n\u001b[0;32m---> 22\u001b[0;31m                     \u001b[0mindex\u001b[0m \u001b[0;34m=\u001b[0m \u001b[0mval_list\u001b[0m\u001b[0;34m.\u001b[0m\u001b[0mindex\u001b[0m\u001b[0;34m(\u001b[0m\u001b[0mpair_list\u001b[0m\u001b[0;34m[\u001b[0m\u001b[0mgroup\u001b[0m\u001b[0;34m]\u001b[0m\u001b[0;34m[\u001b[0m\u001b[0mpair\u001b[0m\u001b[0;34m]\u001b[0m\u001b[0;34m[\u001b[0m\u001b[0mkeystream\u001b[0m\u001b[0;34m]\u001b[0m\u001b[0;34m)\u001b[0m\u001b[0;34m\u001b[0m\u001b[0;34m\u001b[0m\u001b[0m\n\u001b[0m\u001b[1;32m     23\u001b[0m                     \u001b[0mresult\u001b[0m\u001b[0;34m[\u001b[0m\u001b[0mkeystream\u001b[0m\u001b[0;34m]\u001b[0m \u001b[0;34m=\u001b[0m \u001b[0marray_2d\u001b[0m\u001b[0;34m[\u001b[0m\u001b[0mres\u001b[0m\u001b[0;34m]\u001b[0m\u001b[0;34m[\u001b[0m\u001b[0mindex\u001b[0m\u001b[0;34m]\u001b[0m\u001b[0;34m\u001b[0m\u001b[0;34m\u001b[0m\u001b[0m\n\u001b[1;32m     24\u001b[0m \u001b[0;34m\u001b[0m\u001b[0m\n",
      "\u001b[0;31mValueError\u001b[0m: 34 is not in list"
     ]
    }
   ],
   "source": [
    "import csv\n",
    "import numpy\n",
    "import itertools\n",
    "\n",
    "def getPairsCombination(arr):\n",
    "    b = list(itertools.combinations(arr, 2))\n",
    "    \n",
    "    return b\n",
    "\n",
    "def getOutputDifferentialForPairs(val_list, pair_list, array_2d):\n",
    "    res_arr = []\n",
    "\n",
    "    for group in range(len(pair_list)):\n",
    "        res_arr.append([])\n",
    "\n",
    "        for res in range(8):\n",
    "            res_arr[group].append([])\n",
    "            for pair in range(len(pair_list[group])):\n",
    "                result = [0]*(len(pair_list[group][pair]))\n",
    "\n",
    "                for keystream in range(len(pair_list[group][pair])):\n",
    "                    index = val_list.index(pair_list[group][pair][keystream])\n",
    "                    result[keystream] = array_2d[res][index]\n",
    "\n",
    "                res_arr[group][res].append(result)\n",
    "    \n",
    "    return res_arr\n",
    "\n",
    "pair_output_indices = []\n",
    "output_indices_register = []\n",
    "output_indices_byte = []\n",
    "\n",
    "with open(\"./csv/output_indices.csv\", \"r\", newline='') as f:\n",
    "    reader = csv.reader(f, delimiter=',')\n",
    "    rows = list(reader)\n",
    "    \n",
    "for l in rows:\n",
    "    list_rows = [int(i) for i in l]\n",
    "    output_indices_register.append(list_rows[:])       \n",
    "    \n",
    "for byte_index in range(16):\n",
    "    byte_start = byte_index * 8\n",
    "    byte_end = byte_start + 8\n",
    "\n",
    "    temp_array = []\n",
    "    temp_byte_array = []\n",
    "    for l in output_indices_register[byte_start:byte_end]:    \n",
    "        # get pairs of output indices\n",
    "        indices_pairs = getPairsCombination(l)\n",
    "        temp_array.append(indices_pairs)\n",
    "        \n",
    "        # get union set of output indices in a byte        \n",
    "        temp_byte_array.append(output_indices_register[i])\n",
    "        temp_byte_array_flat = list(itertools.chain(*temp_byte_array))\n",
    "    \n",
    "    pair_output_indices.append(temp_array[:])\n",
    "    output_indices_byte.append(temp_byte_array_flat[:])\n",
    "    \n",
    "# total 16 bytes in 128 registers\n",
    "for byte in range(16):\n",
    "\n",
    "    val_list = output_indices_byte[byte]\n",
    "    pair_list = pair_output_indices[byte]\n",
    "\n",
    "    csv_path = \"./csv/byte_%s_result.csv\" % (byte)\n",
    "    \n",
    "    out_diff_times = []\n",
    "    # read number of times of each output indices = 1 for each byte\n",
    "    with open(csv_path, \"r\", newline='') as f:\n",
    "        csvreader = csv.reader(f, delimiter=',')\n",
    "\n",
    "        next(csvreader, None)  # returns the headers or `None` if the input is empty\n",
    "    \n",
    "        for l in csvreader:\n",
    "            int_list = [int(i) for i in l]\n",
    "            out_diff_times.append(int_list[:])\n",
    "    \n",
    "    print(val_list)\n",
    "    results = getOutputDifferentialForPairs(val_list, pair_list, out_diff_times)\n",
    "    \n",
    "    for i in range(results):\n",
    "        print(\"\\n\")\n",
    "        # print the pairs of output indices\n",
    "        print ('|'.join(map(str, pair_list[i])))\n",
    "        for j in range(len(results[i])):\n",
    "            print ('|'.join(map(str, results[i][j])))\n",
    "\n",
    "print(\"End\")"
   ]
  },
  {
   "cell_type": "code",
   "execution_count": 13,
   "metadata": {},
   "outputs": [
    {
     "name": "stdout",
     "output_type": "stream",
     "text": [
      "[(36, 68), (36, 72), (36, 84), (36, 90), (68, 72), (68, 84), (68, 90), (72, 84), (72, 90), (84, 90)]\n"
     ]
    }
   ],
   "source": [
    "\n",
    "\n",
    "res_arr = []\n",
    "\n",
    "\n",
    "for group in range(len(pair_list)):\n",
    "    res_arr.append([])\n",
    "    \n",
    "    for res in range(8):\n",
    "        res_arr[group].append([])\n",
    "        for pair in range(len(pair_list[group])):\n",
    "            result = [0]*(len(pair_list[group][pair]))\n",
    "\n",
    "            for keystream in range(len(pair_list[group][pair])):\n",
    "                index = val_list.index(pair_list[group][pair][keystream])\n",
    "                result[keystream] = array_2d[res][index]\n",
    "\n",
    "            res_arr[group][res].append(result)\n",
    "\n",
    "            \n",
    "for i in range(len(res_arr)):\n",
    "    print(\"\\n\")\n",
    "    # print the pairs of output indices\n",
    "    print ('|'.join(map(str, pair_list[i])))\n",
    "    for j in range(len(res_arr[i])):\n",
    "        print ('|'.join(map(str, res_arr[i][j])))"
   ]
  },
  {
   "cell_type": "code",
   "execution_count": 33,
   "metadata": {},
   "outputs": [
    {
     "name": "stdout",
     "output_type": "stream",
     "text": [
      "[[(34, 38), (34, 54), (34, 66), (34, 70), (34, 86), (38, 54), (38, 66), (38, 70), (38, 86), (54, 66), (54, 70), (54, 86), (66, 70), (66, 86), (70, 86)], [(64, 76), (64, 82), (76, 82)], [(36, 40), (36, 56), (36, 68), (36, 72), (36, 88), (40, 56), (40, 68), (40, 72), (40, 88), (56, 68), (56, 72), (56, 88), (68, 72), (68, 88), (72, 88)], [(66, 78), (66, 84), (78, 84)], [(38, 42), (38, 58), (38, 70), (38, 74), (38, 90), (42, 58), (42, 70), (42, 74), (42, 90), (58, 70), (58, 74), (58, 90), (70, 74), (70, 90), (74, 90)], [(68, 80), (68, 86), (80, 86)], [(40, 44), (40, 60), (40, 72), (40, 76), (40, 92), (44, 60), (44, 72), (44, 76), (44, 92), (60, 72), (60, 76), (60, 92), (72, 76), (72, 92), (76, 92)], [(34, 66), (34, 70), (34, 82), (34, 88), (66, 70), (66, 82), (66, 88), (70, 82), (70, 88), (82, 88)]]\n"
     ]
    }
   ],
   "source": [
    "pair_output_indices = []\n",
    "output_indices_register = []\n",
    "\n",
    "with open(\"./csv/output_indices.csv\", \"r\", newline='') as f:\n",
    "    reader = csv.reader(f, delimiter=',')\n",
    "    rows = list(reader)\n",
    "    \n",
    "for l in rows:\n",
    "    list_rows = [int(i) for i in l]\n",
    "    output_indices_register.append(list_rows[:])       \n",
    "    \n",
    "\n",
    "for byte_index in range(2):\n",
    "    byte_start = byte_index * 8\n",
    "    byte_end = byte_start + 8\n",
    "\n",
    "    temp_array = []\n",
    "    for l in output_indices_register[byte_start:byte_end]:    \n",
    "        indices_pairs = getPairsCombination(l)\n",
    "        temp_array.append(indices_pairs)        \n",
    "    \n",
    "    pair_output_indices.append(temp_array[:])\n",
    "    \n",
    "print(pair_output_indices[0])"
   ]
  },
  {
   "cell_type": "code",
   "execution_count": 35,
   "metadata": {},
   "outputs": [
    {
     "name": "stdout",
     "output_type": "stream",
     "text": [
      "[34, 38, 54, 66, 70, 86]\n",
      "[34, 38, 54, 66, 70, 86, 64, 76, 82, 36, 40, 56, 68, 72, 88, 66, 78, 84, 38, 42, 58, 70, 74, 90, 68, 80, 86, 40, 44, 60, 72, 76, 92, 34, 66, 70, 82, 88]\n"
     ]
    }
   ],
   "source": [
    "print(output_indices_register[0])\n",
    "\n",
    "temp_byte_array = []\n",
    "for i in range(8):\n",
    "    temp_byte_array.append(output_indices_register[i])\n",
    "    \n",
    "List_flat = list(itertools.chain(*temp_byte_array))\n",
    "print(List_flat)"
   ]
  },
  {
   "cell_type": "code",
   "execution_count": null,
   "metadata": {},
   "outputs": [],
   "source": []
  }
 ],
 "metadata": {
  "kernelspec": {
   "display_name": "SageMath 9.1",
   "language": "sage",
   "name": "sagemath"
  },
  "language_info": {
   "codemirror_mode": {
    "name": "ipython",
    "version": 3
   },
   "file_extension": ".py",
   "mimetype": "text/x-python",
   "name": "python",
   "nbconvert_exporter": "python",
   "pygments_lexer": "ipython3",
   "version": "3.7.3"
  }
 },
 "nbformat": 4,
 "nbformat_minor": 2
}
