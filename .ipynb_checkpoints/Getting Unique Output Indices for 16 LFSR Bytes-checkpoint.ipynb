{
 "cells": [
  {
   "cell_type": "code",
   "execution_count": 4,
   "metadata": {},
   "outputs": [
    {
     "name": "stdout",
     "output_type": "stream",
     "text": [
      "36,42,44,54,56,58,60,64,74,78,80,84,90,92\n",
      "36,38,40,44,50,52,62,64,66,70,82,86,88,92,98,100\n",
      "44,46,48,52,58,60,70,72,74,78,90,94,96,100,106,108\n",
      "52,54,56,60,66,68,78,80,82,86,98,102,104,108,114,116\n",
      "34,60,62,64,68,74,76,82,86,88,90,92,94,106,110,112,116,120,122,130\n",
      "36,38,40,42,68,70,72,76,82,86,88,90,104,114,118,120,122,132,134,136,138\n",
      "44,46,48,50,76,78,80,84,90,94,96,98,112,122,126,128,130,140,142,144,146\n",
      "52,54,56,58,84,86,88,92,98,102,104,106,120,130,134,136,138,148,150,152,154\n",
      "34,60,62,64,82,94,96,100,106,110,112,114,124,128,138,142,144,152,158,160\n",
      "36,38,40,42,84,86,88,90,94,96,98,102,104,108,114,118,120,122,126,128,130,134,146,148,154,156,162,164\n",
      "34,36,38,40,44,46,48,50,66,68,70,72,82,84,86,98,100,106,110,112,116,120,128,130,132,136,138,142,144,148,152,156,158,160,164,170,172\n",
      "0,42,44,46,48,52,54,56,58,74,76,78,80,88,90,92,94,106,108,114,118,120,124,126,128,136,138,140,144,146,150,152,156,158,160,164,166,168,172,178,180\n",
      "2,4,6,8,34,36,38,40,50,52,54,56,60,62,64,68,70,72,92,94,104,114,116,122,126,128,130,154,156,158,168,182,184,186,188\n",
      "10,12,14,16,42,44,46,48,58,60,62,64,68,70,72,76,78,80,100,102,112,122,124,130,134,136,138,162,164,166,176,190,192,194,196\n",
      "18,20,22,24,50,52,54,56,66,68,70,72,76,78,80,84,86,88,108,110,120,130,132,138,142,144,146,170,172,174,184,198,200,202,204\n",
      "26,28,30,32,58,60,62,64,74,76,78,80,84,86,88,92,94,96,116,118,128,138,140,146,150,152,154,178,180,182,192,206,208,210,212\n",
      "End\n"
     ]
    }
   ],
   "source": [
    "# get unique output indices for each byte of LFSR registers\n",
    "\n",
    "import csv\n",
    "import numpy as np\n",
    "import pandas as pd\n",
    "\n",
    "csv_file_path = \"./csv/output_indices.csv\"\n",
    "df = pd.read_csv(csv_file_path,  header=None, names=range(12), sep=',')\n",
    "\n",
    "output_indices_128_reg = df.values\n",
    "\n",
    "unique_byte_indices = []\n",
    "\n",
    "# total 16 bytes in 128 registers\n",
    "for byte in range(16):\n",
    "    \n",
    "    # get the starting position of the byte\n",
    "    byte_start = byte * 8\n",
    "    byte_end = byte_start + 8\n",
    "\n",
    "    # group the array by 8 rows\n",
    "    byte_indices = output_indices_128_reg[byte_start:byte_end, 0:12]\n",
    "\n",
    "    # remove the duplicated values in the array\n",
    "    unique_indices = np.unique(byte_indices,  return_counts=True)\n",
    "\n",
    "    # remove the nan values\n",
    "    no_duplicates = np.delete(\n",
    "        unique_indices[0], [i for i in range(unique_indices[1].size) if unique_indices[1][i] > 1 or np.isnan(unique_indices[0][i])])\n",
    "\n",
    "    # convert to int type\n",
    "    no_duplicates = no_duplicates.astype(int)\n",
    "\n",
    "    # print(\"Group of output indices for byte \" + str(byte) + \": \")\n",
    "    # print(np.array2string(no_duplicates, separator=', '))\n",
    "\n",
    "    # append the array into list\n",
    "    unique_byte_indices.append(no_duplicates.tolist())\n",
    "\n",
    "    \n",
    "# print 2d array with values separated by ','\n",
    "# for easier display in excel\n",
    "for byte in unique_byte_indices:\n",
    "    print(','.join(map(str, byte)))\n",
    "    # each row represents the unique (non-duplicated) ouput indices of each byte\n",
    "    \n",
    "with open('./csv/unique_output_indices.csv', mode='w') as csv_file:\n",
    "    reg_writer = csv.writer(\n",
    "        csv_file, delimiter=',', quotechar='\"', quoting=csv.QUOTE_MINIMAL)\n",
    "\n",
    "    for row in unique_byte_indices: \n",
    "        reg_writer.writerow(row)\n",
    "    \n",
    "    \n",
    "print(\"End\")"
   ]
  },
  {
   "cell_type": "code",
   "execution_count": null,
   "metadata": {},
   "outputs": [],
   "source": []
  }
 ],
 "metadata": {
  "kernelspec": {
   "display_name": "SageMath 9.1",
   "language": "sage",
   "name": "sagemath"
  },
  "language_info": {
   "codemirror_mode": {
    "name": "ipython",
    "version": 3
   },
   "file_extension": ".py",
   "mimetype": "text/x-python",
   "name": "python",
   "nbconvert_exporter": "python",
   "pygments_lexer": "ipython3",
   "version": "3.7.3"
  }
 },
 "nbformat": 4,
 "nbformat_minor": 2
}
